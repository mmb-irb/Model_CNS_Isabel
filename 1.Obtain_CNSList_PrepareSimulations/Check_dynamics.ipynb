{
 "cells": [
  {
   "cell_type": "markdown",
   "id": "59f34ed4",
   "metadata": {},
   "source": [
    "# 2. Check if dynamics have finished or not; and whether there has been a problem"
   ]
  },
  {
   "cell_type": "code",
   "execution_count": 3,
   "id": "95abb6f7",
   "metadata": {},
   "outputs": [],
   "source": [
    "import os "
   ]
  },
  {
   "cell_type": "code",
   "execution_count": 4,
   "id": "1dc6f7dc",
   "metadata": {
    "scrolled": true
   },
   "outputs": [],
   "source": [
    "PDBs_name_starlife = []\n",
    "\n",
    "for file in os.listdir('/home/imartinv/Escritorio/ventana_a_starlife/CNS_PD_Memprot_dynamics'):\n",
    "    PDB_na = file\n",
    "    PDBs_name_starlife.append(PDB_na)"
   ]
  },
  {
   "cell_type": "markdown",
   "id": "238e9a77",
   "metadata": {},
   "source": [
    "The errors we are contemplating are shown by:\n",
    "- If the 100ns folder is created but empty. --> It will always be created once we run all dynamics, even if some sbatch fails. This is because the dependency is for any kind of output. So if previous sbatches fail, the 100ns will be created anyway but will be empty as the sbatch_P3 does not have the needed files for running its dynamic. \n",
    "\n",
    "- If the error3.log does not contain the number of steps completed --> maybe because of the same reason as above."
   ]
  },
  {
   "cell_type": "code",
   "execution_count": 5,
   "id": "208165e6",
   "metadata": {
    "scrolled": false
   },
   "outputs": [],
   "source": [
    "# We pay attention to this folder because it is the one resultant of the simulation and it is the one that \n",
    "# contains the trajectory of the protein. \n",
    "\n",
    "\n",
    "dictio_100ns = {} # Empty dictionary to put those PDBs dynamics that have the 100ns folder.\n",
    "                  # Although having this 100ns folder, it maybe empty or not completed. So the number of steps \n",
    "                  # will have to be reviewed in order to see if it has finished. \n",
    "\n",
    "\n",
    "dictio_not_100ns_notrunned = [] # Empty dictionary to put those PDBs dynamics that do not have the 100 ns folder. \n",
    "                      # The ones that do not have this 100ns folder maybe because their dynamic has not finished\n",
    "        \n",
    "PDBs_with_errors = [] # We also create a list of those PDBs that may have some errors.\n",
    "\n",
    "PDBS_finished_completed = []\n",
    "\n",
    "gromos_forcefield_num = 0\n",
    "charm_forcefield_num = 0\n",
    "both = 0\n",
    "\n",
    "both_forcefields_pdb = []\n",
    "gromos_forcefields_pdb = []\n",
    "charmm_forcefields_pdb = []\n",
    "\n",
    "for i in PDBs_name_starlife: # For each PDB folder in starlife\n",
    "\n",
    "    \n",
    "    files = os.listdir('/home/imartinv/Escritorio/ventana_a_starlife/CNS_PD_Memprot_dynamics/'+i) # We list the items inside each PDB folder\n",
    "    \n",
    "    \n",
    "    values_dict_100ns = [] # We create a list of the values that we want to include in the dictionary dictio_100ns\n",
    "    \n",
    "    \n",
    "    \n",
    "    \n",
    "    if ('100ns') in files: # If the folder 100ns is inside the PDB folder\n",
    "        \n",
    "        file_inside_100ns = len(os.listdir('/home/imartinv/Escritorio/ventana_a_starlife/CNS_PD_Memprot_dynamics/'+i+'/100ns')) # Then, we check the number of items inside the 100ns folder.\n",
    "        \n",
    "        \n",
    "        if file_inside_100ns != 0: # If there are items inside the 100ns folder\n",
    "            \n",
    "            values_dict_100ns.append('100ns --> full') # We write a message indicating that the folder is not empty\n",
    "\n",
    "            \n",
    "            dictio_100ns[i[0:4]] = values_dict_100ns # We add the PDB name (key) and this info to the dictio_100ns as it has 100ns. \n",
    "        \n",
    "        else:\n",
    "            values_dict_100ns.append('100ns --> empty // Error in previous sbatches') # If the 100ns folder is empty, \n",
    "                                                                                                    #then we indicate that there maybe an error with another sbatch that did not generate the folders\n",
    "                                                                                                    # needed for running the sbatch_P3\n",
    "            \n",
    "            dictio_100ns[i[0:4]] = values_dict_100ns # We add the PDB name (key) and this info to the dictionary_100ns\n",
    "            \n",
    "            PDBs_with_errors.append(i[0:4])    \n",
    "        \n",
    "    else: # If the folder 100ns is not found in the PDB folder, then we add this PDB to the list of PDBs \n",
    "        dictio_not_100ns_notrunned.append(i[0:4])\n",
    "        \n",
    "        \n",
    "        \n",
    "        \n",
    "        \n",
    "    if ('error3.log') in files: # If the error3.log file is found, then, from this, we can see the number of steps \n",
    "                                # already achieved by our dynamic, if there has been a fatal error or if it has been \n",
    "                                #stopped due to time limit. \n",
    "        \n",
    "        error_log_3_lines = [] # To eliminate the '\\n' character each time we read a line. List of lines without '\\n'.\n",
    "        \n",
    "        with open('/home/imartinv/Escritorio/ventana_a_starlife/CNS_PD_Memprot_dynamics/'+i+'/error3.log') as error_log_3:\n",
    "            \n",
    "            error_log_3_lines_f = error_log_3.readlines() # We read line by line the error3.log file\n",
    "            \n",
    "        for sub in error_log_3_lines_f:\n",
    "            \n",
    "            error_log_3_lines.append(sub.replace(\"\\n\", \"\")) # To eliminate the '\\n' character each time we read a line.We substitute for nothing.\n",
    "            \n",
    "\n",
    "\n",
    "        steps = [] # There maybe several annotations of which step we are. Therefore, we collect them all and then \n",
    "                    # we will select the last one as it is the last achieved step. \n",
    "\n",
    "        for line in error_log_3_lines:\n",
    "            \n",
    "            if 'remaining wall clock time:     0 s ' in line: # If there exists this string in some line, then it means that before this it will have the steps. \n",
    "                \n",
    "                steps.append(line) #We add it to the steps list. \n",
    "                \n",
    "               \n",
    "            \n",
    "        if len(steps) != 0: # If the steps list is not empty, as maybe there are error3.log that do not have this line because it fails before time\n",
    "            \n",
    "            values_dict_100ns.append(steps[-1]) # Then we add the last value of steps to the values that we want to add to the dictionary. \n",
    "            PDBS_finished_completed.append(i[0:4])\n",
    "            \n",
    "        \n",
    "        \n",
    "        \n",
    "        if len(steps) == 0: # If the steps list is empty, this means that we do not have the number of steps, meaning that there maybe an error. \n",
    "            if \"will finish\" in error_log_3_lines[-1]:\n",
    "                \n",
    "                splitted_string = str(error_log_3_lines[-1]).split(\" \")\n",
    "                num = int(splitted_string[1][0:len(splitted_string[1])-1])\n",
    "                perc = round((num/50000000)*100)\n",
    "                values_dict_100ns.append('Not steps indication // Not finished, percentage finished = '+str(perc)+'%') # We indicate this and also we print the possible error that lays in the last line of the error3.log\n",
    "                \n",
    "                \n",
    "            else:\n",
    "                values_dict_100ns.append('Not steps indication // Error in previous sbatches: \"'+str(error_log_3_lines[-1])+'\"') # We indicate this and also we print the possible error that lays in the last line of the error3.log\n",
    "            \n",
    "                if i[0:4] not in PDBs_with_errors:\n",
    "                    PDBs_with_errors.append(i[0:4])\n",
    "                \n",
    "        \n",
    "        \n",
    "        \n",
    "        dictio_100ns[i[0:4]] = values_dict_100ns # We add again (and rewrite if previous written) all this info into the dictionary\n",
    "                                                 # of those that have 100ns folder. \n",
    "    \n",
    "    # For knowing if they are using Gromos forcefield or Charm forcefield for the lipid membrane: \n",
    "    \n",
    "        \n",
    "    \n",
    "    with open('/home/imartinv/Escritorio/ventana_a_starlife/CNS_PD_Memprot_dynamics/'+i+'/topol.top') as topol_top:\n",
    "            \n",
    "        topol_top_lines_f = topol_top.readlines() # We read line by line the error3.log file\n",
    "    \n",
    "    for line_top in topol_top_lines_f:\n",
    "        \n",
    "        if 'gromos53a6' in line_top and 'charmm36' in line_top:\n",
    "            both_forcefields_pdb.append(i[0:4])\n",
    "            both = both+1\n",
    "            break\n",
    "    \n",
    "        elif 'gromos53a6'in line_top:\n",
    "            gromos_forcefields_pdb.append(i[0:4])\n",
    "            gromos_forcefield_num = gromos_forcefield_num+1\n",
    "            break\n",
    "\n",
    "        elif 'charmm36' in line_top:\n",
    "            charmm_forcefields_pdb.append(i[0:4])\n",
    "            charm_forcefield_num = charm_forcefield_num+1\n",
    "            break\n",
    "\n"
   ]
  },
  {
   "cell_type": "code",
   "execution_count": 19,
   "id": "d1a237d5",
   "metadata": {
    "scrolled": true
   },
   "outputs": [
    {
     "name": "stdout",
     "output_type": "stream",
     "text": [
      "PDB that had already run or are running: 59\n",
      "· From this, PDBs with error: 8\n",
      "· From this, PDBs that had already run and correct: 22\n",
      "· From this, PDBs that are running: 29\n",
      "PDBs that had not run:  75\n"
     ]
    }
   ],
   "source": [
    "#print('PDB that had already run or are running: '+str(len(dictio_100ns)))\n",
    "\n",
    "#print('· From this, PDBs with error: '+str(len(PDBs_with_errors)))\n",
    "\n",
    "#print('· From this, PDBs that had already run and correct: '+str(len(PDBS_finished_completed)))\n",
    "\n",
    "#print('· From this, PDBs that are running: '+str(len(dictio_100ns)-(len(PDBs_with_errors)+len(PDBS_finished_completed))))\n",
    "\n",
    "#print('PDBs that had not run: ', str(len(dictio_not_100ns_notrunned)))"
   ]
  },
  {
   "cell_type": "code",
   "execution_count": 4,
   "id": "ecf751ee",
   "metadata": {},
   "outputs": [
    {
     "name": "stdout",
     "output_type": "stream",
     "text": [
      "PDB that had already run or are running: 67\n",
      "· From this, PDBs with error: 8\n",
      "· From this, PDBs that had already run and correct: 42\n",
      "· From this, PDBs that are running: 17\n",
      "PDBs that had not run:  67\n"
     ]
    }
   ],
   "source": [
    "#print('PDB that had already run or are running: '+str(len(dictio_100ns)))\n",
    "\n",
    "#print('· From this, PDBs with error: '+str(len(PDBs_with_errors)))\n",
    "\n",
    "#print('· From this, PDBs that had already run and correct: '+str(len(PDBS_finished_completed)))\n",
    "\n",
    "#print('· From this, PDBs that are running: '+str(len(dictio_100ns)-(len(PDBs_with_errors)+len(PDBS_finished_completed))))\n",
    "\n",
    "#print('PDBs that had not run: ', str(len(dictio_not_100ns_notrunned)))"
   ]
  },
  {
   "cell_type": "code",
   "execution_count": 9,
   "id": "04f1e7b0",
   "metadata": {},
   "outputs": [
    {
     "name": "stdout",
     "output_type": "stream",
     "text": [
      "PDB that had already run or are running: 67\n",
      "· From this, PDBs with error: 8\n",
      "· From this, PDBs that had already run and correct: 46\n",
      "· From this, PDBs that are running: 13\n",
      "PDBs that had not run:  67\n"
     ]
    }
   ],
   "source": [
    "#print('PDB that had already run or are running: '+str(len(dictio_100ns)))\n",
    "\n",
    "#print('· From this, PDBs with error: '+str(len(PDBs_with_errors)))\n",
    "\n",
    "#print('· From this, PDBs that had already run and correct: '+str(len(PDBS_finished_completed)))\n",
    "\n",
    "#print('· From this, PDBs that are running: '+str(len(dictio_100ns)-(len(PDBs_with_errors)+len(PDBS_finished_completed))))\n",
    "\n",
    "#print('PDBs that had not run: ', str(len(dictio_not_100ns_notrunned)))"
   ]
  },
  {
   "cell_type": "code",
   "execution_count": 4,
   "id": "9d5be0e0",
   "metadata": {},
   "outputs": [
    {
     "name": "stdout",
     "output_type": "stream",
     "text": [
      "PDB that had already run or are running: 83\n",
      "· From this, PDBs with error: 10\n",
      "· From this, PDBs that had already run and correct: 52\n",
      "· From this, PDBs that are running: 21\n",
      "PDBs that had not run:  51\n"
     ]
    }
   ],
   "source": [
    "#print('PDB that had already run or are running: '+str(len(dictio_100ns)))\n",
    "\n",
    "#print('· From this, PDBs with error: '+str(len(PDBs_with_errors)))\n",
    "\n",
    "#print('· From this, PDBs that had already run and correct: '+str(len(PDBS_finished_completed)))\n",
    "\n",
    "#print('· From this, PDBs that are running: '+str(len(dictio_100ns)-(len(PDBs_with_errors)+len(PDBS_finished_completed))))\n",
    "\n",
    "#print('PDBs that had not run: ', str(len(dictio_not_100ns_notrunned)))"
   ]
  },
  {
   "cell_type": "code",
   "execution_count": 10,
   "id": "5ca12cc9",
   "metadata": {
    "scrolled": false
   },
   "outputs": [
    {
     "name": "stdout",
     "output_type": "stream",
     "text": [
      "PDB that had already run or are running: 112\n",
      "· From this, PDBs with error: 16\n",
      "· From this, PDBs that had already run and correct: 52\n",
      "· From this, PDBs that are running: 44\n",
      "PDBs that had not run:  22\n"
     ]
    }
   ],
   "source": [
    "#print('PDB that had already run or are running: '+str(len(dictio_100ns)))\n",
    "\n",
    "#print('· From this, PDBs with error: '+str(len(PDBs_with_errors)))\n",
    "\n",
    "#print('· From this, PDBs that had already run and correct: '+str(len(PDBS_finished_completed)))\n",
    "\n",
    "#print('· From this, PDBs that are running: '+str(len(dictio_100ns)-(len(PDBs_with_errors)+len(PDBS_finished_completed))))\n",
    "\n",
    "#print('PDBs that had not run: ', str(len(dictio_not_100ns_notrunned)))"
   ]
  },
  {
   "cell_type": "code",
   "execution_count": 4,
   "id": "7c002175",
   "metadata": {},
   "outputs": [
    {
     "name": "stdout",
     "output_type": "stream",
     "text": [
      "PDB that had already run or are running: 63\n",
      "· From this, PDBs with error: 16\n",
      "· From this, PDBs that had already run and correct: 3\n",
      "· From this, PDBs that are running: 44\n",
      "PDBs that had not run:  22\n"
     ]
    }
   ],
   "source": [
    "print('PDB that had already run or are running: '+str(len(dictio_100ns)))\n",
    "\n",
    "print('· From this, PDBs with error: '+str(len(PDBs_with_errors)))\n",
    "\n",
    "print('· From this, PDBs that had already run and correct: '+str(len(PDBS_finished_completed)))\n",
    "\n",
    "print('· From this, PDBs that are running: '+str(len(dictio_100ns)-(len(PDBs_with_errors)+len(PDBS_finished_completed))))\n",
    "\n",
    "print('PDBs that had not run: ', str(len(dictio_not_100ns_notrunned)))"
   ]
  },
  {
   "cell_type": "code",
   "execution_count": 6,
   "id": "2ef4817b",
   "metadata": {},
   "outputs": [
    {
     "name": "stdout",
     "output_type": "stream",
     "text": [
      "PDB that had already run or are running: 77\n",
      "· From this, PDBs with error: 72\n",
      "· From this, PDBs that had already run and correct: 4\n",
      "· From this, PDBs that are running: 1\n",
      "PDBs that had not run:  17\n"
     ]
    }
   ],
   "source": [
    "print('PDB that had already run or are running: '+str(len(dictio_100ns)))\n",
    "\n",
    "print('· From this, PDBs with error: '+str(len(PDBs_with_errors)))\n",
    "\n",
    "print('· From this, PDBs that had already run and correct: '+str(len(PDBS_finished_completed)))\n",
    "\n",
    "print('· From this, PDBs that are running: '+str(len(dictio_100ns)-(len(PDBs_with_errors)+len(PDBS_finished_completed))))\n",
    "\n",
    "print('PDBs that had not run: ', str(len(dictio_not_100ns_notrunned)))"
   ]
  },
  {
   "cell_type": "code",
   "execution_count": 35,
   "id": "e4c89f81",
   "metadata": {},
   "outputs": [
    {
     "name": "stdout",
     "output_type": "stream",
     "text": [
      "PDBs that had already run or are running: \n",
      "\n"
     ]
    },
    {
     "data": {
      "text/plain": [
       "{'5iu7': ['100ns --> full',\n",
       "  'step 50000000, remaining wall clock time:     0 s          '],\n",
       " '2lm2': ['100ns --> empty // Error in previous sbatches',\n",
       "  'Not steps indication // Error in previous sbatches: \"system msg for write_line failure : Bad file descriptor\"'],\n",
       " '5olo': ['100ns --> full',\n",
       "  'step 50000000, remaining wall clock time:     0 s          '],\n",
       " '6d1s': ['100ns --> full',\n",
       "  'Not steps indication // Not finished, percentage finished = 88%'],\n",
       " '2ksr': ['100ns --> full',\n",
       "  'step 50000000, remaining wall clock time:     0 s          '],\n",
       " '6jzh': ['100ns --> full',\n",
       "  'Not steps indication // Not finished, percentage finished = 75%'],\n",
       " '5wf6': ['100ns --> full',\n",
       "  'step 50000000, remaining wall clock time:     0 s          '],\n",
       " '2k58': ['100ns --> full',\n",
       "  'step 50000000, remaining wall clock time:     0 s          '],\n",
       " '5uvi': ['100ns --> full',\n",
       "  'step 50000000, remaining wall clock time:     0 s          '],\n",
       " '3qak': ['100ns --> full',\n",
       "  'step 50000000, remaining wall clock time:     0 s          '],\n",
       " '4uhr': ['100ns --> full',\n",
       "  'step 50000000, remaining wall clock time:     0 s          '],\n",
       " '5nlx': ['100ns --> full',\n",
       "  'step 50000000, remaining wall clock time:     0 s          '],\n",
       " '5jqh': ['100ns --> full',\n",
       "  'step 50000000, remaining wall clock time:     0 s          '],\n",
       " '6a96': ['100ns --> full',\n",
       "  'Not steps indication // Not finished, percentage finished = 84%'],\n",
       " '6j8h': ['100ns --> full',\n",
       "  'Not steps indication // Not finished, percentage finished = 37%'],\n",
       " '6aqf': ['100ns --> full',\n",
       "  'step 50000000, remaining wall clock time:     0 s          '],\n",
       " '5g53': ['100ns --> empty // Error in previous sbatches',\n",
       "  'Not steps indication // Error in previous sbatches: \"system msg for write_line failure : Bad file descriptor\"'],\n",
       " '6bqg': ['100ns --> full',\n",
       "  'step 50000000, remaining wall clock time:     0 s          '],\n",
       " '5olh': ['100ns --> empty // Error in previous sbatches',\n",
       "  'Not steps indication // Error in previous sbatches: \"system msg for write_line failure : Bad file descriptor\"'],\n",
       " '6irh': ['100ns --> full',\n",
       "  'Not steps indication // Not finished, percentage finished = 21%'],\n",
       " '6a93': ['100ns --> full',\n",
       "  'step 50000000, remaining wall clock time:     0 s          '],\n",
       " '6j8e': ['100ns --> full'],\n",
       " '3pds': ['100ns --> full',\n",
       "  'step 50000000, remaining wall clock time:     0 s          '],\n",
       " '5uig': ['100ns --> full',\n",
       "  'step 50000000, remaining wall clock time:     0 s          '],\n",
       " '5x7d': ['100ns --> full',\n",
       "  'step 50000000, remaining wall clock time:     0 s          '],\n",
       " '5ojm': ['100ns --> full',\n",
       "  'step 50000000, remaining wall clock time:     0 s          '],\n",
       " '3pwh': ['100ns --> empty // Error in previous sbatches',\n",
       "  'Not steps indication // Error in previous sbatches: \"system msg for write_line failure : Bad file descriptor\"'],\n",
       " '3p0g': ['100ns --> full',\n",
       "  'step 50000000, remaining wall clock time:     0 s          '],\n",
       " '5o8f': ['100ns --> empty // Error in previous sbatches',\n",
       "  'Not steps indication // Error in previous sbatches: \"system msg for write_line failure : Bad file descriptor\"'],\n",
       " '6e67': ['100ns --> full',\n",
       "  'Not steps indication // Not finished, percentage finished = 91%'],\n",
       " '4cof': ['100ns --> full',\n",
       "  'step 50000000, remaining wall clock time:     0 s          '],\n",
       " '5zkb': ['100ns --> full',\n",
       "  'step 50000000, remaining wall clock time:     0 s          '],\n",
       " '6a94': ['100ns --> full',\n",
       "  'step 50000000, remaining wall clock time:     0 s          '],\n",
       " '4gbr': ['100ns --> full',\n",
       "  'step 50000000, remaining wall clock time:     0 s          '],\n",
       " '5iu8': ['100ns --> full',\n",
       "  'step 50000000, remaining wall clock time:     0 s          '],\n",
       " '6i53': ['100ns --> full',\n",
       "  'Not steps indication // Not finished, percentage finished = 44%'],\n",
       " '6gt3': ['100ns --> full',\n",
       "  'Not steps indication // Not finished, percentage finished = 90%'],\n",
       " '6hug': ['100ns --> full',\n",
       "  'Not steps indication // Not finished, percentage finished = 43%'],\n",
       " '6d6t': ['100ns --> full',\n",
       "  'Not steps indication // Not finished, percentage finished = 79%'],\n",
       " '6bqh': ['100ns --> full',\n",
       "  'step 50000000, remaining wall clock time:     0 s          '],\n",
       " '2r4s': ['100ns --> full',\n",
       "  'step 50000000, remaining wall clock time:     0 s          '],\n",
       " '3vga': ['100ns --> full',\n",
       "  'step 50000000, remaining wall clock time:     0 s          '],\n",
       " '6k42': ['100ns --> full',\n",
       "  'Not steps indication // Not finished, percentage finished = 47%'],\n",
       " '5zk3': ['100ns --> full',\n",
       "  'step 50000000, remaining wall clock time:     0 s          '],\n",
       " '4eiy': ['100ns --> full',\n",
       "  'step 50000000, remaining wall clock time:     0 s          '],\n",
       " '5d5b': ['100ns --> full',\n",
       "  'step 50000000, remaining wall clock time:     0 s          '],\n",
       " '5n2r': ['100ns --> full',\n",
       "  'step 50000000, remaining wall clock time:     0 s          '],\n",
       " '6gdg': ['100ns --> empty // Error in previous sbatches',\n",
       "  'Not steps indication // Error in previous sbatches: \"system msg for write_line failure : Bad file descriptor\"'],\n",
       " '3nya': ['100ns --> full',\n",
       "  'step 50000000, remaining wall clock time:     0 s          '],\n",
       " '3vg9': ['100ns --> full',\n",
       "  'step 50000000, remaining wall clock time:     0 s          '],\n",
       " '5cxv': ['100ns --> full',\n",
       "  'step 50000000, remaining wall clock time:     0 s          '],\n",
       " '3rze': ['100ns --> full',\n",
       "  'step 50000000, remaining wall clock time:     0 s          '],\n",
       " '3sn6': ['100ns --> full',\n",
       "  'Not steps indication // Not finished, percentage finished = 95%'],\n",
       " '5kxi': ['100ns --> empty // Error in previous sbatches',\n",
       "  'Not steps indication // Error in previous sbatches: \"system msg for write_line failure : Bad file descriptor\"'],\n",
       " '5jtb': ['100ns --> full',\n",
       "  'step 50000000, remaining wall clock time:     0 s          '],\n",
       " '5om1': ['100ns --> full',\n",
       "  'step 50000000, remaining wall clock time:     0 s          '],\n",
       " '5ek0': ['100ns --> empty // Error in previous sbatches',\n",
       "  'Not steps indication // Error in previous sbatches: \"system msg for write_line failure : Bad file descriptor\"'],\n",
       " '6cnj': ['100ns --> full',\n",
       "  'Not steps indication // Not finished, percentage finished = 79%'],\n",
       " '6cnk': ['100ns --> full',\n",
       "  'Not steps indication // Not finished, percentage finished = 62%'],\n",
       " '3pbl': ['100ns --> full',\n",
       "  'step 50000000, remaining wall clock time:     0 s          '],\n",
       " '5yc8': ['100ns --> full',\n",
       "  'step 50000000, remaining wall clock time:     0 s          '],\n",
       " '5zk8': ['100ns --> full',\n",
       "  'step 50000000, remaining wall clock time:     0 s          '],\n",
       " '5om4': ['100ns --> empty // Error in previous sbatches',\n",
       "  'Not steps indication // Error in previous sbatches: \"system msg for write_line failure : Bad file descriptor\"'],\n",
       " '5wiv': ['100ns --> full',\n",
       "  'step 50000000, remaining wall clock time:     0 s          '],\n",
       " '6huo': ['100ns --> full',\n",
       "  'Not steps indication // Not finished, percentage finished = 44%'],\n",
       " '6irg': ['100ns --> full',\n",
       "  'Not steps indication // Not finished, percentage finished = 22%'],\n",
       " '6hup': ['100ns --> full',\n",
       "  'Not steps indication // Not finished, percentage finished = 40%'],\n",
       " '5mzp': ['100ns --> full',\n",
       "  'step 50000000, remaining wall clock time:     0 s          '],\n",
       " '5vra': ['100ns --> full',\n",
       "  'step 50000000, remaining wall clock time:     0 s          '],\n",
       " '2ydo': ['100ns --> full',\n",
       "  'step 50000000, remaining wall clock time:     0 s          '],\n",
       " '4mqt': ['100ns --> full',\n",
       "  'step 50000000, remaining wall clock time:     0 s          '],\n",
       " '6k41': ['100ns --> full',\n",
       "  'Not steps indication // Not finished, percentage finished = 52%'],\n",
       " '3kj6': ['100ns --> full',\n",
       "  'step 50000000, remaining wall clock time:     0 s          '],\n",
       " '5wf5': ['100ns --> full',\n",
       "  'step 50000000, remaining wall clock time:     0 s          '],\n",
       " '5wiu': ['100ns --> full',\n",
       "  'step 50000000, remaining wall clock time:     0 s          '],\n",
       " '6ira': ['100ns --> full',\n",
       "  'Not steps indication // Not finished, percentage finished = 20%'],\n",
       " '6huj': ['100ns --> full',\n",
       "  'Not steps indication // Not finished, percentage finished = 42%'],\n",
       " '3eml': ['100ns --> full',\n",
       "  'step 50000000, remaining wall clock time:     0 s          '],\n",
       " '5iua': ['100ns --> full',\n",
       "  'step 50000000, remaining wall clock time:     0 s          '],\n",
       " '4ug2': ['100ns --> full',\n",
       "  'step 50000000, remaining wall clock time:     0 s          '],\n",
       " '6cm4': ['100ns --> full',\n",
       "  'step 50000000, remaining wall clock time:     0 s          '],\n",
       " '6d6u': ['100ns --> empty // Error in previous sbatches',\n",
       "  'Not steps indication // Error in previous sbatches: \"system msg for write_line failure : Bad file descriptor\"'],\n",
       " '4mqs': ['100ns --> full',\n",
       "  'step 50000000, remaining wall clock time:     0 s          ']}"
      ]
     },
     "execution_count": 35,
     "metadata": {},
     "output_type": "execute_result"
    }
   ],
   "source": [
    "print('PDBs that had already run or are running: \\n')\n",
    "dictio_100ns"
   ]
  },
  {
   "cell_type": "code",
   "execution_count": 11,
   "id": "f3f25777",
   "metadata": {},
   "outputs": [
    {
     "name": "stdout",
     "output_type": "stream",
     "text": [
      "PDBs with errors: \n",
      "\n"
     ]
    },
    {
     "data": {
      "text/plain": [
       "['2lm2',\n",
       " '3pwh',\n",
       " '5ek0',\n",
       " '5g53',\n",
       " '5kxi',\n",
       " '5o8f',\n",
       " '5olh',\n",
       " '5om4',\n",
       " '6d6u',\n",
       " '6gdg',\n",
       " '6kr8',\n",
       " '6me5',\n",
       " '6n4r',\n",
       " '6ni3',\n",
       " '6oik',\n",
       " '6wgt']"
      ]
     },
     "execution_count": 11,
     "metadata": {},
     "output_type": "execute_result"
    }
   ],
   "source": [
    "print('PDBs with errors: \\n')\n",
    "\n",
    "PDBs_with_errors.sort()\n",
    "PDBs_with_errors"
   ]
  },
  {
   "cell_type": "code",
   "execution_count": 10,
   "id": "11895550",
   "metadata": {},
   "outputs": [
    {
     "name": "stdout",
     "output_type": "stream",
     "text": [
      "PDBs that had already run and correct \n",
      "\n"
     ]
    },
    {
     "data": {
      "text/plain": [
       "['2k58',\n",
       " '2ksr',\n",
       " '2r4s',\n",
       " '2ydo',\n",
       " '3eml',\n",
       " '3kj6',\n",
       " '3nya',\n",
       " '3p0g',\n",
       " '3pbl',\n",
       " '3pds',\n",
       " '3qak',\n",
       " '3rze',\n",
       " '3vg9',\n",
       " '3vga',\n",
       " '4cof',\n",
       " '4eiy',\n",
       " '4gbr',\n",
       " '4mqs',\n",
       " '4mqt',\n",
       " '4ug2',\n",
       " '4uhr',\n",
       " '5cxv',\n",
       " '5d5b',\n",
       " '5iu7',\n",
       " '5iu8',\n",
       " '5iua',\n",
       " '5jqh',\n",
       " '5jtb',\n",
       " '5mzp',\n",
       " '5n2r',\n",
       " '5nlx',\n",
       " '5ojm',\n",
       " '5olo',\n",
       " '5om1',\n",
       " '5uig',\n",
       " '5uvi',\n",
       " '5vra',\n",
       " '5wf5',\n",
       " '5wf6',\n",
       " '5wiu',\n",
       " '5wiv',\n",
       " '5x7d',\n",
       " '5yc8',\n",
       " '5zk3',\n",
       " '5zk8',\n",
       " '5zkb',\n",
       " '6a93',\n",
       " '6a94',\n",
       " '6aqf',\n",
       " '6bqg',\n",
       " '6bqh',\n",
       " '6cm4']"
      ]
     },
     "execution_count": 10,
     "metadata": {},
     "output_type": "execute_result"
    }
   ],
   "source": [
    "print('PDBs that had already run and correct \\n')\n",
    "PDBS_finished_completed.sort()\n",
    "PDBS_finished_completed"
   ]
  },
  {
   "cell_type": "code",
   "execution_count": 11,
   "id": "9b8735d1",
   "metadata": {
    "scrolled": true
   },
   "outputs": [
    {
     "name": "stdout",
     "output_type": "stream",
     "text": [
      "PDBs that had not run: \n",
      "\n"
     ]
    },
    {
     "data": {
      "text/plain": [
       "['6kr8',\n",
       " '6kuw',\n",
       " '6kux',\n",
       " '6kuy',\n",
       " '6me2',\n",
       " '6me3',\n",
       " '6me5',\n",
       " '6me8',\n",
       " '6n4q',\n",
       " '6n4r',\n",
       " '6ni3',\n",
       " '6nt3',\n",
       " '6nt4',\n",
       " '6oij',\n",
       " '6oik',\n",
       " '6ps0',\n",
       " '6ps2',\n",
       " '6ps5',\n",
       " '6ps7',\n",
       " '6ps8',\n",
       " '6qfa',\n",
       " '6ur8',\n",
       " '6usf',\n",
       " '6vms',\n",
       " '6vxo',\n",
       " '6w6o',\n",
       " '6wgt',\n",
       " '6wh4',\n",
       " '6wha',\n",
       " '6wjc',\n",
       " '6x3u',\n",
       " '6zdr',\n",
       " '6zdv',\n",
       " '7bz2',\n",
       " '7cmu',\n",
       " '7dfp',\n",
       " '7dhi',\n",
       " '7dhr',\n",
       " '7dtc',\n",
       " '7dtd',\n",
       " '7e2y',\n",
       " '7e2z',\n",
       " '7eoq',\n",
       " '7eor',\n",
       " '7eos',\n",
       " '7eot',\n",
       " '7eou',\n",
       " '7jvr',\n",
       " '7k48',\n",
       " '7mix',\n",
       " '7miy']"
      ]
     },
     "execution_count": 11,
     "metadata": {},
     "output_type": "execute_result"
    }
   ],
   "source": [
    "print('PDBs that had not run: \\n')\n",
    "dictio_not_100ns_notrunned.sort()\n",
    "dictio_not_100ns_notrunned"
   ]
  },
  {
   "cell_type": "code",
   "execution_count": 18,
   "id": "6f53bb2f",
   "metadata": {},
   "outputs": [
    {
     "name": "stdout",
     "output_type": "stream",
     "text": [
      "Number of PDBs that use GROMOS Forcefield: 59\n"
     ]
    }
   ],
   "source": [
    "print('Number of PDBs that use GROMOS Forcefield:',gromos_forcefield_num)"
   ]
  },
  {
   "cell_type": "code",
   "execution_count": 19,
   "id": "95793662",
   "metadata": {},
   "outputs": [
    {
     "name": "stdout",
     "output_type": "stream",
     "text": [
      "Number of PDBs that use CHARM36 Forcefield: 98\n"
     ]
    }
   ],
   "source": [
    "print('Number of PDBs that use CHARM36 Forcefield:',charm_forcefield_num)"
   ]
  },
  {
   "cell_type": "code",
   "execution_count": 36,
   "id": "e4ae3cc3",
   "metadata": {},
   "outputs": [
    {
     "name": "stdout",
     "output_type": "stream",
     "text": [
      "Number of PDBs that use both Forcefields (if that is possible):  0\n"
     ]
    }
   ],
   "source": [
    "print('Number of PDBs that use both Forcefields (if that is possible): ',both)"
   ]
  },
  {
   "cell_type": "code",
   "execution_count": 37,
   "id": "c2c2522c",
   "metadata": {},
   "outputs": [
    {
     "data": {
      "text/plain": [
       "['2k58',\n",
       " '2ksr',\n",
       " '2lm2',\n",
       " '2r4s',\n",
       " '2ydo',\n",
       " '3eml',\n",
       " '3kj6',\n",
       " '3nya',\n",
       " '3p0g',\n",
       " '3pbl',\n",
       " '3pds',\n",
       " '3pwh',\n",
       " '3qak',\n",
       " '3rze',\n",
       " '3sn6',\n",
       " '3vg9',\n",
       " '3vga',\n",
       " '4cof',\n",
       " '4eiy',\n",
       " '4gbr',\n",
       " '4mqs',\n",
       " '4mqt',\n",
       " '4ug2',\n",
       " '4uhr',\n",
       " '5cxv',\n",
       " '5d5b',\n",
       " '5ek0',\n",
       " '5g53',\n",
       " '5iu7',\n",
       " '5iu8',\n",
       " '5iua',\n",
       " '5jqh',\n",
       " '5jtb',\n",
       " '5kxi',\n",
       " '5mzp',\n",
       " '5n2r',\n",
       " '5nlx',\n",
       " '5o8f',\n",
       " '5ojm',\n",
       " '5olh',\n",
       " '5olo',\n",
       " '5om1',\n",
       " '5om4',\n",
       " '5uig',\n",
       " '5uvi',\n",
       " '5vra',\n",
       " '5wf5',\n",
       " '5wf6',\n",
       " '5wiu',\n",
       " '5wiv',\n",
       " '5x7d',\n",
       " '6aqf',\n",
       " '6bqg',\n",
       " '6bqh']"
      ]
     },
     "execution_count": 37,
     "metadata": {},
     "output_type": "execute_result"
    }
   ],
   "source": [
    "gromos_forcefields_pdb.sort()\n",
    "gromos_forcefields_pdb"
   ]
  },
  {
   "cell_type": "code",
   "execution_count": 38,
   "id": "c99b72a4",
   "metadata": {},
   "outputs": [
    {
     "data": {
      "text/plain": [
       "['5yc8',\n",
       " '5zk3',\n",
       " '5zk8',\n",
       " '5zkb',\n",
       " '6a93',\n",
       " '6a94',\n",
       " '6a96',\n",
       " '6cm4',\n",
       " '6cnj',\n",
       " '6cnk',\n",
       " '6d1s',\n",
       " '6d6t',\n",
       " '6d6u',\n",
       " '6e67',\n",
       " '6gdg',\n",
       " '6gt3',\n",
       " '6hug',\n",
       " '6huj',\n",
       " '6huo',\n",
       " '6hup',\n",
       " '6i53',\n",
       " '6ira',\n",
       " '6irg',\n",
       " '6irh',\n",
       " '6j8e',\n",
       " '6j8h',\n",
       " '6jzh',\n",
       " '6k41',\n",
       " '6k42',\n",
       " '6kr8',\n",
       " '6kuw',\n",
       " '6kux',\n",
       " '6kuy',\n",
       " '6me2',\n",
       " '6me3',\n",
       " '6me5',\n",
       " '6me8',\n",
       " '6n4q',\n",
       " '6n4r',\n",
       " '6ni3',\n",
       " '6nt3',\n",
       " '6nt4',\n",
       " '6oij',\n",
       " '6oik',\n",
       " '6ps0',\n",
       " '6ps2',\n",
       " '6ps5',\n",
       " '6ps7',\n",
       " '6ps8',\n",
       " '6qfa',\n",
       " '6ur8',\n",
       " '6usf',\n",
       " '6vms',\n",
       " '6vxo',\n",
       " '6w6o',\n",
       " '6wgt',\n",
       " '6wh4',\n",
       " '6wha',\n",
       " '6wjc',\n",
       " '6x3u',\n",
       " '6zdr',\n",
       " '6zdv',\n",
       " '7bz2',\n",
       " '7cmu',\n",
       " '7dfp',\n",
       " '7dhi',\n",
       " '7dhr',\n",
       " '7dtc',\n",
       " '7dtd',\n",
       " '7e2y',\n",
       " '7e2z',\n",
       " '7eoq',\n",
       " '7eor',\n",
       " '7eos',\n",
       " '7eot',\n",
       " '7eou',\n",
       " '7jvr',\n",
       " '7k48',\n",
       " '7mix',\n",
       " '7miy']"
      ]
     },
     "execution_count": 38,
     "metadata": {},
     "output_type": "execute_result"
    }
   ],
   "source": [
    "charmm_forcefields_pdb.sort()\n",
    "charmm_forcefields_pdb"
   ]
  },
  {
   "cell_type": "code",
   "execution_count": 29,
   "id": "26292257",
   "metadata": {},
   "outputs": [],
   "source": [
    "#k = 4\n",
    "\n",
    "#with open('PDBS_finished_completed_'+str(k)+'.txt', 'w') as finished_file:\n",
    "    for listitem in PDBS_finished_completed:\n",
    "        finished_file.write(f'{listitem}\\n')\n"
   ]
  },
  {
   "cell_type": "markdown",
   "id": "688690fa",
   "metadata": {},
   "source": [
    "mwf -top md.tpr -traj md.xtc -char md.tpr -pr 4 -filt -i topology --trust cohbonds\n",
    "\n"
   ]
  },
  {
   "cell_type": "code",
   "execution_count": 31,
   "id": "b3e57923",
   "metadata": {},
   "outputs": [],
   "source": [
    "finished_run_pdbs_ANTERIOR = []\n",
    "\n",
    "with open('/home/imartinv/Escritorio/TFG/1.LIST_PROTEINS/Isa_dinámicas_preparacion/PDBS_finished_completed_'+str(k-1)+'.txt', 'r') as finished_file:\n",
    "    for line in finished_file:\n",
    "        # Remove linebreak which is the last character of the string\n",
    "        curr_place = line[:-1]\n",
    "        # Add item to the list\n",
    "        finished_run_pdbs_ANTERIOR.append(curr_place)\n"
   ]
  },
  {
   "cell_type": "code",
   "execution_count": 32,
   "id": "ed603d61",
   "metadata": {},
   "outputs": [],
   "source": [
    "finished_run_pdbs_ACTUAL = []\n",
    "\n",
    "with open('/home/imartinv/Escritorio/TFG/1.LIST_PROTEINS/Isa_dinámicas_preparacion/PDBS_finished_completed_'+str(k)+'.txt', 'r') as finished_file:\n",
    "    for line in finished_file:\n",
    "        # Remove linebreak which is the last character of the string\n",
    "        curr_place = line[:-1]\n",
    "        # Add item to the list\n",
    "        finished_run_pdbs_ACTUAL.append(curr_place)"
   ]
  },
  {
   "cell_type": "code",
   "execution_count": 25,
   "id": "0bc65302",
   "metadata": {},
   "outputs": [],
   "source": [
    "finished_run_pdbs_difference = []\n",
    "\n",
    "for i in finished_run_pdbs_ACTUAL: \n",
    "    if i not in finished_run_pdbs_ANTERIOR:\n",
    "        finished_run_pdbs_difference.append(i)\n",
    "        "
   ]
  },
  {
   "cell_type": "code",
   "execution_count": 27,
   "id": "fda25b59",
   "metadata": {},
   "outputs": [
    {
     "data": {
      "text/plain": [
       "['4uhr', '5ojm', '6bqg', '6bqh']"
      ]
     },
     "execution_count": 27,
     "metadata": {},
     "output_type": "execute_result"
    }
   ],
   "source": [
    "finished_run_pdbs_difference"
   ]
  },
  {
   "cell_type": "code",
   "execution_count": 33,
   "id": "e45e311b",
   "metadata": {},
   "outputs": [],
   "source": [
    "with open('PDBS_finished_difference.txt', 'w') as finished_file:\n",
    "    for listitem in finished_run_pdbs_difference_2:\n",
    "        finished_file.write(f'{listitem}\\n')\n"
   ]
  },
  {
   "cell_type": "code",
   "execution_count": 6,
   "id": "87760b3d",
   "metadata": {},
   "outputs": [],
   "source": [
    "with open('PDBS_finished_completed_toremovextc.txt', 'w') as finished_file:\n",
    "    for listitem in PDBS_finished_completed:\n",
    "        finished_file.write(f'{listitem}\\n')\n"
   ]
  },
  {
   "cell_type": "markdown",
   "id": "cc7c5189",
   "metadata": {},
   "source": [
    "### BSC had a power outage. \n",
    "I am going to see which jobs where in the second one and which in the third one. If they are in the third one, we can run the sbatch_cont but if failed in the second (or first) we have to create new ones. "
   ]
  },
  {
   "cell_type": "code",
   "execution_count": 31,
   "id": "a9c43759",
   "metadata": {},
   "outputs": [],
   "source": [
    "# We pay attention to this folder because it is the one resultant of the simulation and it is the one that \n",
    "# contains the trajectory of the protein. \n",
    "\n",
    "pdbs_stoppedrun_thirdjob = []\n",
    "\n",
    "pdbs_stoppedrun_secondjob = []\n",
    "\n",
    "\n",
    "for i in PDBs_name_starlife: # For each PDB folder in starlife\n",
    "\n",
    "\n",
    "    \n",
    "    files = os.listdir('/home/imartinv/Escritorio/ventana_a_starlife/CNS_PD_Memprot_dynamics/'+i) # We list the items inside each PDB folder\n",
    "\n",
    "    # See which have the error3.log (which means they had already run or were running)\n",
    "    if 'error3.log' in files: \n",
    "        \n",
    "        error_log_3_lines = []\n",
    "        \n",
    "        with open('/home/imartinv/Escritorio/ventana_a_starlife/CNS_PD_Memprot_dynamics/'+i+'/error3.log') as error_log_3:\n",
    "            \n",
    "            error_log_3_lines_f = error_log_3.readlines() # We read line by line the error3.log file\n",
    "            \n",
    "        for sub in error_log_3_lines_f:\n",
    "            \n",
    "            error_log_3_lines.append(sub.replace(\"\\n\", \"\")) # To eliminate the '\\n' character each time we read a line.We substitute for nothing.\n",
    "        \n",
    "        \n",
    "        if '/bin/bash: /apps/modules/LMOD/7.7/lmod/lmod/init/bash: Error de entrada/salida' in error_log_3_lines: \n",
    "            \n",
    "            pdbs_stoppedrun_thirdjob.append(i)\n",
    "            \n",
    "        \n",
    "    # See which have the error3.log (which means they had already run or were running)\n",
    "    if 'error2.log' in files: \n",
    "        \n",
    "        error_log_2_lines = []\n",
    "        \n",
    "        with open('/home/imartinv/Escritorio/ventana_a_starlife/CNS_PD_Memprot_dynamics/'+i+'/error2.log') as error_log_2:\n",
    "            \n",
    "            error_log_2_lines_f = error_log_2.readlines() # We read line by line the error3.log file\n",
    "            \n",
    "        for sub in error_log_2_lines_f:\n",
    "            \n",
    "            error_log_2_lines.append(sub.replace(\"\\n\", \"\")) # To eliminate the '\\n' character each time we read a line.We substitute for nothing.\n",
    "        \n",
    "        \n",
    "        if '/bin/bash: /apps/modules/LMOD/7.7/lmod/lmod/init/bash: Error de entrada/salida' in error_log_2_lines: \n",
    "            \n",
    "            pdbs_stoppedrun_secondjob.append(i[0:4])\n",
    "            \n",
    "    \n",
    "    \n",
    "\n",
    "        \n",
    "    \n",
    "    \n",
    "    \n",
    "    "
   ]
  },
  {
   "cell_type": "code",
   "execution_count": 29,
   "id": "456b17c4",
   "metadata": {},
   "outputs": [
    {
     "data": {
      "text/plain": [
       "[]"
      ]
     },
     "execution_count": 29,
     "metadata": {},
     "output_type": "execute_result"
    }
   ],
   "source": [
    "pdbs_stoppedrun_secondjob"
   ]
  },
  {
   "cell_type": "code",
   "execution_count": 33,
   "id": "270fa6b1",
   "metadata": {},
   "outputs": [
    {
     "data": {
      "text/plain": [
       "['6d1s_default_dppc-atomistic-simulation',\n",
       " '6jzh_default_dppc-atomistic-simulation',\n",
       " '7dhr_default_dppc-atomistic-simulation',\n",
       " '6a96_default_dppc-atomistic-simulation',\n",
       " '6j8h_default_dppc-atomistic-simulation',\n",
       " '6irh_default_dppc-atomistic-simulation',\n",
       " '6zdr_default_dppc-atomistic-simulation',\n",
       " '6ps2_default_dppc-atomistic-simulation',\n",
       " '6wjc_default_dppc-atomistic-simulation',\n",
       " '6ps0_default_dppc-atomistic-simulation',\n",
       " '6e67_default_dppc-atomistic-simulation',\n",
       " '6wgt_default_dppc-atomistic-simulation',\n",
       " '6ps8_default_dppc-atomistic-simulation',\n",
       " '6vms_default_dppc-atomistic-simulation',\n",
       " '6kuw_default_dppc-atomistic-simulation',\n",
       " '7eoq_default_dppc-atomistic-simulation',\n",
       " '6qfa_default_dppc-atomistic-simulation',\n",
       " '7e2z_default_dppc-atomistic-simulation',\n",
       " '6i53_default_dppc-atomistic-simulation',\n",
       " '6gt3_default_dppc-atomistic-simulation',\n",
       " '6hug_default_dppc-atomistic-simulation',\n",
       " '6d6t_default_dppc-atomistic-simulation',\n",
       " '7dtd_default_dppc-atomistic-simulation',\n",
       " '6k42_default_dppc-atomistic-simulation',\n",
       " '6nt4_default_dppc-atomistic-simulation',\n",
       " '7e2y_default_dppc-atomistic-simulation',\n",
       " '6cnj_default_dppc-atomistic-simulation',\n",
       " '6cnk_default_dppc-atomistic-simulation',\n",
       " '6me8_default_dppc-atomistic-simulation',\n",
       " '6usf_default_dppc-atomistic-simulation',\n",
       " '6kuy_default_dppc-atomistic-simulation',\n",
       " '7bz2_default_dppc-atomistic-simulation',\n",
       " '7dhi_default_dppc-atomistic-simulation',\n",
       " '6huo_default_dppc-atomistic-simulation',\n",
       " '6irg_default_dppc-atomistic-simulation',\n",
       " '6me3_default_dppc-atomistic-simulation',\n",
       " '6zdv_default_dppc-atomistic-simulation',\n",
       " '6wha_default_dppc-atomistic-simulation',\n",
       " '6hup_default_dppc-atomistic-simulation',\n",
       " '6oij_default_dppc-atomistic-simulation',\n",
       " '6oik_default_dppc-atomistic-simulation',\n",
       " '6kux_default_dppc-atomistic-simulation',\n",
       " '6ps7_default_dppc-atomistic-simulation',\n",
       " '7cmu_default_dppc-atomistic-simulation',\n",
       " '6n4q_default_dppc-atomistic-simulation',\n",
       " '6k41_default_dppc-atomistic-simulation',\n",
       " '6vxo_default_dppc-atomistic-simulation',\n",
       " '6x3u_default_dppc-atomistic-simulation',\n",
       " '6ps5_default_dppc-atomistic-simulation',\n",
       " '6me2_default_dppc-atomistic-simulation',\n",
       " '6nt3_default_dppc-atomistic-simulation',\n",
       " '6ira_default_dppc-atomistic-simulation',\n",
       " '6huj_default_dppc-atomistic-simulation',\n",
       " '7dfp_default_dppc-atomistic-simulation',\n",
       " '6ur8_default_dppc-atomistic-simulation',\n",
       " '6wh4_default_dppc-atomistic-simulation',\n",
       " '6w6o_default_dppc-atomistic-simulation',\n",
       " '7dtc_default_dppc-atomistic-simulation']"
      ]
     },
     "execution_count": 33,
     "metadata": {},
     "output_type": "execute_result"
    }
   ],
   "source": [
    "pdbs_stoppedrun_thirdjob"
   ]
  },
  {
   "cell_type": "code",
   "execution_count": 34,
   "id": "e2f1f560",
   "metadata": {},
   "outputs": [],
   "source": [
    "pdbs_error_or_notrun = []\n",
    "\n",
    "for pdb in PDBs_name_starlife: \n",
    "    if pdb not in pdbs_stoppedrun_thirdjob: \n",
    "        pdbs_error_or_notrun.append(pdb)\n",
    "        "
   ]
  },
  {
   "cell_type": "code",
   "execution_count": 36,
   "id": "9aa8d843",
   "metadata": {},
   "outputs": [
    {
     "data": {
      "text/plain": [
       "['2lm2_default_dppc-atomistic-simulation',\n",
       " '3pwh_default_dppc-atomistic-simulation',\n",
       " '3sn6_default_dppc-atomistic-simulation',\n",
       " '4cof_default_dppc-atomistic-simulation',\n",
       " '5ek0_default_dppc-atomistic-simulation',\n",
       " '5g53_default_dppc-atomistic-simulation',\n",
       " '5iu7_default_dppc-atomistic-simulation',\n",
       " '5kxi_default_dppc-atomistic-simulation',\n",
       " '5o8f_default_dppc-atomistic-simulation',\n",
       " '5ojm_default_dppc-atomistic-simulation',\n",
       " '5olh_default_dppc-atomistic-simulation',\n",
       " '5om4_default_dppc-atomistic-simulation',\n",
       " '6d6u_default_dppc-atomistic-simulation',\n",
       " '6gdg_default_dppc-atomistic-simulation',\n",
       " '6j8e_default_dppc-atomistic-simulation',\n",
       " '6kr8_default_dppc-atomistic-simulation',\n",
       " '6me5_default_dppc-atomistic-simulation',\n",
       " '6n4r_default_dppc-atomistic-simulation',\n",
       " '6ni3_default_dppc-atomistic-simulation',\n",
       " '7eor_default_dppc-atomistic-simulation',\n",
       " '7eos_default_dppc-atomistic-simulation',\n",
       " '7eot_default_dppc-atomistic-simulation',\n",
       " '7eou_default_dppc-atomistic-simulation',\n",
       " '7jvr_default_dppc-atomistic-simulation',\n",
       " '7k48_default_dppc-atomistic-simulation',\n",
       " '7mix_default_dppc-atomistic-simulation',\n",
       " '7miy_default_dppc-atomistic-simulation']"
      ]
     },
     "execution_count": 36,
     "metadata": {},
     "output_type": "execute_result"
    }
   ],
   "source": [
    "pdbs_error_or_notrun.sort()\n",
    "pdbs_error_or_notrun"
   ]
  },
  {
   "cell_type": "code",
   "execution_count": null,
   "id": "50d6d1bc",
   "metadata": {},
   "outputs": [],
   "source": [
    "['2lm2',\n",
    " '3pwh',\n",
    " '5ek0',\n",
    " '5g53',\n",
    " '5kxi',\n",
    " '5o8f',\n",
    " '5olh',\n",
    " '5om4',\n",
    " '6d6u',\n",
    " '6gdg',\n",
    " '6kr8',\n",
    " '6me5',\n",
    " '6n4r',\n",
    " '6ni3',\n",
    " '6oik',\n",
    " '6wgt']"
   ]
  },
  {
   "cell_type": "code",
   "execution_count": 37,
   "id": "a9fdc79f",
   "metadata": {
    "scrolled": true
   },
   "outputs": [
    {
     "data": {
      "text/plain": [
       "['7dhr',\n",
       " '7mix',\n",
       " '7e2z',\n",
       " '7dtd',\n",
       " '7eos',\n",
       " '7e2y',\n",
       " '7bz2',\n",
       " '7jvr',\n",
       " '7dhi',\n",
       " '7miy',\n",
       " '7cmu',\n",
       " '7eou',\n",
       " '7eor',\n",
       " '7k48',\n",
       " '7eot',\n",
       " '7dfp',\n",
       " '7dtc']"
      ]
     },
     "execution_count": 37,
     "metadata": {},
     "output_type": "execute_result"
    }
   ],
   "source": [
    "dictio_not_100ns_notrunned"
   ]
  },
  {
   "cell_type": "code",
   "execution_count": 39,
   "id": "f6d3fa95",
   "metadata": {},
   "outputs": [],
   "source": [
    "textfile = open(\"pdbs_stoppedrun_thirdjob.txt\", \"w\")\n",
    "\n",
    "for element in pdbs_stoppedrun_thirdjob:\n",
    "\n",
    "    textfile.write(element + \"\\n\")\n",
    "\n",
    "textfile.close()"
   ]
  },
  {
   "cell_type": "code",
   "execution_count": null,
   "id": "73f60452",
   "metadata": {},
   "outputs": [],
   "source": []
  }
 ],
 "metadata": {
  "kernelspec": {
   "display_name": "Python 3 (ipykernel)",
   "language": "python",
   "name": "python3"
  },
  "language_info": {
   "codemirror_mode": {
    "name": "ipython",
    "version": 3
   },
   "file_extension": ".py",
   "mimetype": "text/x-python",
   "name": "python",
   "nbconvert_exporter": "python",
   "pygments_lexer": "ipython3",
   "version": "3.8.13"
  }
 },
 "nbformat": 4,
 "nbformat_minor": 5
}
